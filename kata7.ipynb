{
 "cells": [
  {
   "cell_type": "markdown",
   "metadata": {},
   "source": [
    "# Ejercicio 1: Uso de ciclos while en Python"
   ]
  },
  {
   "cell_type": "code",
   "execution_count": 27,
   "metadata": {},
   "outputs": [],
   "source": [
    "# Declara dos variables\n",
    "# variable que almacena los planetas\n",
    "new_planet = ''\n",
    "# lista que almacena cada uno de los planetas que el usuario ingresa\n",
    "planets = []"
   ]
  },
  {
   "cell_type": "code",
   "execution_count": 28,
   "metadata": {},
   "outputs": [
    {
     "name": "stdout",
     "output_type": "stream",
     "text": [
      "['mercurio', 'venus', 'tierra']\n"
     ]
    }
   ],
   "source": [
    "# Escribe el ciclo while solicitado\n",
    "\n",
    "while new_planet.lower() != 'done':\n",
    "    # Verificamos si hay un valor en new_planet\n",
    "    if new_planet:\n",
    "        # Se almacena ese valor en la lista planets\n",
    "        planets.append(new_planet)\n",
    "    # Se solicita capturar un nuevo valor o salir del ciclo\n",
    "    new_planet = input('Agrega el nombre de un nuevo planeta, o escribe \"done\" para terminar el programa')\n",
    "\n",
    "#Mostrar los datos de la lista\n",
    "print(planets)"
   ]
  },
  {
   "cell_type": "markdown",
   "metadata": {},
   "source": [
    "# Ejercicio 2: Creación de un ciclo \"for\""
   ]
  },
  {
   "cell_type": "code",
   "execution_count": 29,
   "metadata": {},
   "outputs": [
    {
     "name": "stdout",
     "output_type": "stream",
     "text": [
      "En la posicion 0 de la lista se agrego:  mercurio\n",
      "En la posicion 1 de la lista se agrego:  venus\n",
      "En la posicion 2 de la lista se agrego:  tierra\n"
     ]
    }
   ],
   "source": [
    "# Escribe tu ciclo for para iterar en una lista de planetas\n",
    "cuenta = -1\n",
    "for planet in planets:\n",
    "    cuenta+=1\n",
    "    print(\"En la posicion\",cuenta, \"de la lista se agrego: \",planet)\n"
   ]
  }
 ],
 "metadata": {
  "interpreter": {
   "hash": "669f5abd92f1a410df15b0643b9f42360e277a412fc08ae8bc7d7911cf7e8f3d"
  },
  "kernelspec": {
   "display_name": "Python 3.10.2 64-bit",
   "language": "python",
   "name": "python3"
  },
  "language_info": {
   "codemirror_mode": {
    "name": "ipython",
    "version": 3
   },
   "file_extension": ".py",
   "mimetype": "text/x-python",
   "name": "python",
   "nbconvert_exporter": "python",
   "pygments_lexer": "ipython3",
   "version": "3.10.2"
  },
  "orig_nbformat": 4
 },
 "nbformat": 4,
 "nbformat_minor": 2
}

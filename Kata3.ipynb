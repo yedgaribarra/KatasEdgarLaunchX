{
 "cells": [
  {
   "cell_type": "markdown",
   "metadata": {},
   "source": [
    "# Ejercicio - Escribir declaraciones"
   ]
  },
  {
   "cell_type": "code",
   "execution_count": 15,
   "metadata": {},
   "outputs": [
    {
     "name": "stdout",
     "output_type": "stream",
     "text": [
      "\t\t\t Advertencia\n",
      "Se acerca un asteroide a la tierra a gran velocidad, sálvese quien pueda\n"
     ]
    }
   ],
   "source": [
    "# Añadir el código necesario para crear una variable que guarde la velocidad del asteroide (49 km/s)\n",
    "Vel_Ast= 49\n",
    "# Escribe una expresión de prueba para calcular si necesita una advertencia.\n",
    "# Agregue las instrucciones que se ejecutarán si la expresión de prueba es true o false.\n",
    "\n",
    "if Vel_Ast > 25:\n",
    "    print(\"\\t\\t\\t Advertencia\")\n",
    "    print(\"Se acerca un asteroide a la tierra a gran velocidad, sálvese quien pueda\")\n",
    "else:\n",
    "    print(\"Vamos a vivir\")"
   ]
  },
  {
   "cell_type": "code",
   "execution_count": 23,
   "metadata": {},
   "outputs": [
    {
     "name": "stdout",
     "output_type": "stream",
     "text": [
      "\t\t\t\t\t\t Alerta\n",
      "Ciudadanos estén atentos a los avisos de este canal porque posiblemente se lograra ver un asteroide sí llegara aumentar su velocidad\n"
     ]
    }
   ],
   "source": [
    "# Agrega el código para crear una variable para un asteroide que viaja a 19 km/s\n",
    "Velo_Aste=19\n",
    "# Escribe varias expresiones de prueba para determinar si puedes ver el rayo de luz desde la tierra\n",
    "# Agrega las instrucciones que se ejecutarán si las expresiones de prueba son True o False\n",
    "\n",
    "if Velo_Aste >=20:\n",
    "    print(\"\\t\\t\\t Alerta\")\n",
    "    print(\"Ciudadanos observen el cielo porque deberán buscar un asteroide\")\n",
    "elif Velo_Aste == 19:\n",
    "    print(\"\\t\\t\\t\\t\\t\\t Alerta\")\n",
    "    print(\"Ciudadanos estén atentos a los avisos de este canal porque posiblemente se lograra ver un asteroide sí llegara aumentar su velocidad\")\n",
    "else: \n",
    "    print(\"Aqui no pasa nada, sigan con sus vidas\")\n"
   ]
  },
  {
   "cell_type": "markdown",
   "metadata": {},
   "source": [
    "# Ejercicio: Uso de operadores and y or"
   ]
  },
  {
   "cell_type": "code",
   "execution_count": 32,
   "metadata": {},
   "outputs": [
    {
     "name": "stdout",
     "output_type": "stream",
     "text": [
      "\t\t\t Alerta\n",
      "El asteroide causara un gran daño a la tierra\n"
     ]
    }
   ],
   "source": [
    "# Agrega el código para crear nuevas variables para la velocidad y el tamaño del asteroide\n",
    "\n",
    "tamaño_aste= input(\"Introduce el tamaño del asteroide: \")\n",
    "velocidad_aste=input(\"Introduce la velocidad del asteroide: \")\n",
    "\n",
    "# Para probar el código, prueba con varias velocidades y tamaños\n",
    "# Escribe varias expresiones de prueba o combinaciones de expresiones de prueba para determinar qué mensaje se debe enviar a Tierra.\n",
    "\n",
    "if int(tamaño_aste) > 25 and int(tamaño_aste) < 100:\n",
    "    print(\"\\t\\t\\t Alerta\")\n",
    "    print(\"El asteroide causara un gran daño a la tierra\")\n",
    "\n",
    "elif int(velocidad_aste) > 25:\n",
    "    print(\"\\t\\t\\t Advertencia\")\n",
    "    print(\"Se acerca un asteroide a la tierra a gran velocidad, sálvese quien pueda\")\n",
    "\n",
    "elif int(velocidad_aste) >=20:\n",
    "    print(\"\\t\\t\\t Alerta\")\n",
    "    print(\"Ciudadanos observen el cielo porque podran observar un rayo de luz\")\n",
    "\n",
    "else:\n",
    "    print(\"Aqui no pasa nada, sigan con sus vidas\")"
   ]
  }
 ],
 "metadata": {
  "interpreter": {
   "hash": "669f5abd92f1a410df15b0643b9f42360e277a412fc08ae8bc7d7911cf7e8f3d"
  },
  "kernelspec": {
   "display_name": "Python 3.10.2 64-bit",
   "language": "python",
   "name": "python3"
  },
  "language_info": {
   "codemirror_mode": {
    "name": "ipython",
    "version": 3
   },
   "file_extension": ".py",
   "mimetype": "text/x-python",
   "name": "python",
   "nbconvert_exporter": "python",
   "pygments_lexer": "ipython3",
   "version": "3.10.2"
  },
  "orig_nbformat": 4
 },
 "nbformat": 4,
 "nbformat_minor": 2
}

{
 "cells": [
  {
   "cell_type": "markdown",
   "metadata": {},
   "source": [
    "# Ejercicio 1: Trabajar con argumentos en funciones"
   ]
  },
  {
   "cell_type": "code",
   "execution_count": 85,
   "metadata": {},
   "outputs": [],
   "source": [
    "# Función para leer 3 tanques de combustible y muestre el promedio\n",
    "\n",
    "def lectura_combustible (tanque_1, tanque_2, tanque_3):\n",
    "    promedio= (tanque_1+tanque_2+tanque_3)/3\n",
    "    return f\"\"\"\\tLectura de tres tanques de combustible\n",
    "    {'-'*50} \n",
    "    La lectura del primer tanque: {tanque_1} \n",
    "    La lectura del segundo tanque: {tanque_2} \n",
    "    La lectura del tercer tanque: {tanque_3}\n",
    "    El promedio del combustible es: {promedio} \"\"\""
   ]
  },
  {
   "cell_type": "code",
   "execution_count": null,
   "metadata": {},
   "outputs": [],
   "source": [
    "# Llamamos a la función que genera el reporte print(funcion(tanque1, tanque2, tanque3))\n",
    "print(lectura_combustible(0,0,0))"
   ]
  },
  {
   "cell_type": "code",
   "execution_count": null,
   "metadata": {},
   "outputs": [],
   "source": [
    "# Función promedio \n",
    "def promedio(*args):\n",
    "     total = sum(args)\n",
    "     cantidad_tanques = len(args)\n",
    "     return total/cantidad_tanques"
   ]
  },
  {
   "cell_type": "code",
   "execution_count": null,
   "metadata": {},
   "outputs": [],
   "source": [
    "# Actualiza la función\n",
    "\n",
    "def lectura_combustible (tanque_1, tanque_2, tanque_3):\n",
    "    return f\"\"\"\\tLectura de tres tanques de combustible\n",
    "    {'-'*50} \n",
    "    La lectura del primer tanque: {tanque_1} \n",
    "    La lectura del segundo tanque: {tanque_2} \n",
    "    La lectura del tercer tanque: {tanque_3}\n",
    "    El promedio del combustible es: {promedio(tanque_1,tanque_2,tanque_3)} \"\"\""
   ]
  },
  {
   "cell_type": "code",
   "execution_count": null,
   "metadata": {},
   "outputs": [],
   "source": [
    "print(lectura_combustible(30,20,30))"
   ]
  },
  {
   "cell_type": "markdown",
   "metadata": {},
   "source": [
    "# Ejercicio 2: Trabajo con argumentos de palabra clave"
   ]
  },
  {
   "cell_type": "code",
   "execution_count": 105,
   "metadata": {},
   "outputs": [
    {
     "name": "stdout",
     "output_type": "stream",
     "text": [
      "\tInforme preciso de la mision\n",
      "    ------------------------------------------------------------ \n",
      "    Hora de prelanzamiento: 20:08:03\n",
      "    Tiempo de vuelo: 55 min\n",
      "    Destino: Luna\n",
      "    Tanque externo: 50 \n",
      "    Tanque interno: 80\n",
      "    Combustible total: 130 \n"
     ]
    }
   ],
   "source": [
    "# Función con un informe preciso de la misión. Considera hora de prelanzamiento, tiempo de vuelo, destino, tanque externo y tanque interno\n",
    "from datetime import timedelta, datetime\n",
    "\n",
    "def Reporte ( tiempo_vuelo, destino, tanque_externo, tanque_interno):\n",
    "    Hora = datetime.now()\n",
    "    return f\"\"\"\\tInforme preciso de la mision\n",
    "    {'-'*60} \n",
    "    Hora de prelanzamiento: {Hora.strftime(f'%H:%M:%S')}\n",
    "    Tiempo de vuelo: {tiempo_vuelo} min\n",
    "    Destino: {destino}\n",
    "    Tanque externo: {tanque_externo} \n",
    "    Tanque interno: {tanque_interno}\n",
    "    Combustible total: {tanque_externo+tanque_interno} \"\"\"\n",
    "\n",
    "print(Reporte(55,'Luna',50,80))"
   ]
  },
  {
   "cell_type": "code",
   "execution_count": 120,
   "metadata": {},
   "outputs": [
    {
     "name": "stdout",
     "output_type": "stream",
     "text": [
      "\tInforme preciso de la mision\n",
      "    ------------------------------------------------------------ \n",
      "    Hora de prelanzamiento: 20:18:35\n",
      "    Tiempo de vuelo: 85 min\n",
      "    Destino: Luna\n",
      "    Combustible total: 200 \n"
     ]
    }
   ],
   "source": [
    "# Escribe tu nueva función de reporte considerando lo anterior\n",
    "\n",
    "from datetime import timedelta, datetime\n",
    "\n",
    "def Reporte ( destino,*tiempo,**tanques):\n",
    "    Hora = datetime.now()\n",
    "    return f\"\"\"\\tInforme preciso de la mision\n",
    "    {'-'*60} \n",
    "    Hora de prelanzamiento: {Hora.strftime(f'%H:%M:%S')}\n",
    "    Tiempo de vuelo: {sum(tiempo)} min\n",
    "    Destino: {destino}\n",
    "    Combustible total: {sum(tanques.values())} \"\"\"\n",
    "\n",
    "print(Reporte(\"Luna\",55,30, tanque_externo=80, tanque_interno=70, tanque_reserva=50))"
   ]
  },
  {
   "cell_type": "code",
   "execution_count": 129,
   "metadata": {},
   "outputs": [
    {
     "name": "stdout",
     "output_type": "stream",
     "text": [
      "\tInforme preciso de la mision\n",
      "    ------------------------------------------------------------ \n",
      "    Hora de prelanzamiento: 20:31:13\n",
      "    Tiempo de vuelo: 85 min\n",
      "    Destino: Luna\n",
      "    Combustible total: 200 \n",
      "\ttanque_externo: 80\n",
      "\ttanque_interno: 70\n",
      "\ttanque_reserva: 50\n"
     ]
    }
   ],
   "source": [
    "# Escribe tu nueva función\n",
    "\n",
    "from datetime import timedelta, datetime\n",
    "\n",
    "def Reporte ( destino,*tiempo,**tanques):\n",
    "    Hora = datetime.now()\n",
    "    informe = f\"\"\"\\tInforme preciso de la mision\n",
    "    {'-'*60} \n",
    "    Hora de prelanzamiento: {Hora.strftime(f'%H:%M:%S')}\n",
    "    Tiempo de vuelo: {sum(tiempo)} min\n",
    "    Destino: {destino}\n",
    "    Combustible total: {sum(tanques.values())} \"\"\"\n",
    "    \n",
    "    for title, cantidad in tanques.items():\n",
    "        informe += f'\\n\\t{title}: {cantidad}'\n",
    "    return informe\n",
    "\n",
    "print(Reporte(\"Luna\",55,30, tanque_externo=80, tanque_interno=70, tanque_reserva=50))"
   ]
  }
 ],
 "metadata": {
  "interpreter": {
   "hash": "669f5abd92f1a410df15b0643b9f42360e277a412fc08ae8bc7d7911cf7e8f3d"
  },
  "kernelspec": {
   "display_name": "Python 3.10.2 64-bit",
   "language": "python",
   "name": "python3"
  },
  "language_info": {
   "codemirror_mode": {
    "name": "ipython",
    "version": 3
   },
   "file_extension": ".py",
   "mimetype": "text/x-python",
   "name": "python",
   "nbconvert_exporter": "python",
   "pygments_lexer": "ipython3",
   "version": "3.10.2"
  },
  "orig_nbformat": 4
 },
 "nbformat": 4,
 "nbformat_minor": 2
}
